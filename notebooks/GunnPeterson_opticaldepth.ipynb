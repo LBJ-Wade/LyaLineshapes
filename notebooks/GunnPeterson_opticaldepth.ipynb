{
 "cells": [
  {
   "cell_type": "code",
   "execution_count": 8,
   "metadata": {},
   "outputs": [],
   "source": [
    "import numpy as np\n",
    "import matplotlib.pyplot as plt\n",
    "import astropy.units as u\n",
    "import astropy.constants as const\n",
    "import sys\n",
    "from astropy.cosmology import Planck15\n",
    "\n",
    "\n",
    "sys.path.append('../')\n",
    "import bubbles"
   ]
  },
  {
   "cell_type": "markdown",
   "metadata": {},
   "source": [
    "# Gunn-Peterson optical depth\n",
    "\n",
    "$$ \\tau_{GP} = \\int_0^{z^s} dz c\\frac{dt}{dz} n_{HI}(z) \\sigma_\\alpha(z) $$\n",
    "\n",
    "Optical depth $\\sigma_\\alpha(z) = \\sigma_0 \\phi\\left(\\nu\\frac{1+z}{1+z_s} - \\nu_\\alpha\\right) $\n",
    "\n",
    "where $\\nu$ is emitted frequency. $\\sigma_0 = \\frac{f \\pi e^2}{m_e c}$.\n",
    "\n",
    "As cross-section is tightly peaked:\n",
    "\n",
    "\\begin{align}\n",
    "\\sigma_\\alpha(z) &= \\sigma_0 \\phi\\left(\\nu\\frac{1+z}{1+z_s} - \\nu_\\alpha\\right) \\\\\n",
    "                 &= \\sigma_0 \\delta\\left(\\nu\\frac{1+z}{1+z_s} - \\nu_\\alpha\\right) \\\\\n",
    "                 &\\approx \\sigma_0 \\frac{1+z_s}{\\nu} \\delta(z - z_s) \n",
    "\\end{align}\n",
    "\n",
    "Thus the optical depth:\n",
    "\n",
    "\\begin{align}\n",
    "\\tau_{GP} &= c\\frac{dt}{dz}(z_s) n_{HI}(z_s) \\sigma_0 \\frac{1+z_s}{\\nu}  \\\\\n",
    "          &= \\frac{c}{H(z_s)(1+z_s)} n_{HI}(z_s) \\sigma_0 \\frac{1+z_s}{\\nu} \\\\\n",
    "          &= \\frac{n_{HI}(z_s)}{H(z_s)} \\frac{c \\sigma_0}{\\nu} \\\\ \n",
    "          &= \\boxed{\\frac{n_{HI}(z_s)}{H(z_s)} \\sigma_0 \\lambda_\\alpha}\n",
    "\\end{align}\n",
    "\n"
   ]
  },
  {
   "cell_type": "code",
   "execution_count": 9,
   "metadata": {},
   "outputs": [
    {
     "data": {
      "text/latex": [
       "$0.011025949 \\; \\mathrm{\\frac{cm^{2}}{s}}$"
      ],
      "text/plain": [
       "<Quantity 0.01102595 cm2 / s>"
      ]
     },
     "execution_count": 9,
     "metadata": {},
     "output_type": "execute_result"
    }
   ],
   "source": [
    "# Cross-section\n",
    "electron_charge = 4.8e-10 * u.esu.decompose()\n",
    "sigma0 = (0.416 * np.pi * electron_charge**2. / const.m_e / const.c).to(u.cm**2./u.s)\n",
    "sigma0"
   ]
  },
  {
   "cell_type": "code",
   "execution_count": 10,
   "metadata": {},
   "outputs": [
    {
     "name": "stdout",
     "output_type": "stream",
     "text": [
      "1.8783608831997029e-07 1 / cm3\n",
      "1.340755419784846e-07 cm3 / s\n",
      "2.1953038906868123e-18 1 / s\n"
     ]
    }
   ],
   "source": [
    "print(bubbles.n_H(0))\n",
    "print((sigma0 * 1216. * u.Angstrom).to(u.cm**3./u.s))\n",
    "print(Planck15.H0.to(1/u.s))"
   ]
  },
  {
   "cell_type": "code",
   "execution_count": 11,
   "metadata": {},
   "outputs": [
    {
     "data": {
      "text/plain": [
       "20687.660931316623"
      ]
     },
     "execution_count": 11,
     "metadata": {},
     "output_type": "execute_result"
    }
   ],
   "source": [
    "tauGP_prefactor = (bubbles.n_H(0) * sigma0 * 1216. * u.Angstrom / np.sqrt(Planck15.Om0)/Planck15.H0).to(u.s/u.s).value\n",
    "tauGP_prefactor"
   ]
  },
  {
   "cell_type": "code",
   "execution_count": 12,
   "metadata": {},
   "outputs": [
    {
     "name": "stdout",
     "output_type": "stream",
     "text": [
      "6.5e+05\n"
     ]
    }
   ],
   "source": [
    "print('%.1e' % (tauGP_prefactor*10**1.5))"
   ]
  },
  {
   "cell_type": "code",
   "execution_count": 13,
   "metadata": {},
   "outputs": [
    {
     "name": "stdout",
     "output_type": "stream",
     "text": [
      "106.83125364753633 km / s\n"
     ]
    }
   ],
   "source": [
    "z = 7\n",
    "print((1*u.Mpc*Planck15.H(z)/(1+z)).to(u.km/u.s))"
   ]
  },
  {
   "cell_type": "markdown",
   "metadata": {},
   "source": [
    "# If background dominates\n"
   ]
  },
  {
   "cell_type": "code",
   "execution_count": 24,
   "metadata": {},
   "outputs": [
    {
     "data": {
      "text/latex": [
       "$4.5657713 \\times 10^{-11} \\; \\mathrm{\\frac{1}{s}}$"
      ],
      "text/plain": [
       "<Quantity 4.56577129e-11 1 / s>"
      ]
     },
     "execution_count": 24,
     "metadata": {},
     "output_type": "execute_result"
    }
   ],
   "source": [
    "gamma_BG_lim = (sigma0 * 1216. * u.Angstrom) * bubbles.n_H(0)**2. * bubbles.alpha_rec_B(T=1e4) / (Planck15.H0 * np.sqrt(Planck15.Om0))\n",
    "gamma_BG_lim.to(1/u.s)*(8)**4.5 * 3**2./2.3"
   ]
  },
  {
   "cell_type": "code",
   "execution_count": 21,
   "metadata": {},
   "outputs": [
    {
     "data": {
      "text/plain": [
       "31622.776601683792"
      ]
     },
     "execution_count": 21,
     "metadata": {},
     "output_type": "execute_result"
    }
   ],
   "source": [
    "(10)**4.5"
   ]
  },
  {
   "cell_type": "code",
   "execution_count": null,
   "metadata": {},
   "outputs": [],
   "source": []
  }
 ],
 "metadata": {
  "kernelspec": {
   "display_name": "Python 3",
   "language": "python",
   "name": "python3"
  },
  "language_info": {
   "codemirror_mode": {
    "name": "ipython",
    "version": 3
   },
   "file_extension": ".py",
   "mimetype": "text/x-python",
   "name": "python",
   "nbconvert_exporter": "python",
   "pygments_lexer": "ipython3",
   "version": "3.7.2"
  },
  "toc": {
   "base_numbering": 1,
   "nav_menu": {},
   "number_sections": true,
   "sideBar": true,
   "skip_h1_title": false,
   "title_cell": "Table of Contents",
   "title_sidebar": "Contents",
   "toc_cell": false,
   "toc_position": {},
   "toc_section_display": true,
   "toc_window_display": true
  }
 },
 "nbformat": 4,
 "nbformat_minor": 2
}
