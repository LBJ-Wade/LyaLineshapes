{
 "cells": [
  {
   "cell_type": "markdown",
   "metadata": {},
   "source": [
    "# IGM density distribution\n",
    "\n",
    "Following [Bi+2002](https://iopscience.iop.org/article/10.1086/378793/pdf)"
   ]
  },
  {
   "cell_type": "code",
   "execution_count": 4,
   "metadata": {
    "ExecuteTime": {
     "end_time": "2020-08-10T16:15:38.507371Z",
     "start_time": "2020-08-10T16:15:38.033574Z"
    }
   },
   "outputs": [],
   "source": [
    "import numpy as np\n",
    "import matplotlib.pylab as plt\n",
    "from astropy.cosmology import Planck15\n",
    "import astropy.units as u\n",
    "import astropy.constants as const"
   ]
  },
  {
   "cell_type": "code",
   "execution_count": 25,
   "metadata": {
    "ExecuteTime": {
     "end_time": "2020-08-05T22:10:06.087151Z",
     "start_time": "2020-08-05T22:10:06.082624Z"
    }
   },
   "outputs": [],
   "source": [
    "from hmf import MassFunction"
   ]
  },
  {
   "cell_type": "code",
   "execution_count": 49,
   "metadata": {
    "ExecuteTime": {
     "end_time": "2020-08-05T22:18:17.537392Z",
     "start_time": "2020-08-05T22:18:17.530355Z"
    }
   },
   "outputs": [],
   "source": [
    "mf = MassFunction(z = 6.6, Mmin=2, Mmax=12, dlog10m=0.1,              # Redshift of 1.0\n",
    "                  cosmo_params={\"Om0\":0.3}, # Matter density of 0.3\n",
    "                  hmf_model=\"PS\")           # Press-Schechter fitting function"
   ]
  },
  {
   "cell_type": "code",
   "execution_count": 53,
   "metadata": {
    "ExecuteTime": {
     "end_time": "2020-08-05T22:19:02.762562Z",
     "start_time": "2020-08-05T22:19:02.464487Z"
    }
   },
   "outputs": [
    {
     "data": {
      "text/plain": [
       "<matplotlib.legend.Legend at 0x1826607278>"
      ]
     },
     "execution_count": 53,
     "metadata": {},
     "output_type": "execute_result"
    },
    {
     "data": {
      "image/png": "[encoded data removed]",
      "text/plain": [
       "<Figure size 432x288 with 1 Axes>"
      ]
     },
     "metadata": {
      "needs_background": "light"
     },
     "output_type": "display_data"
    }
   ],
   "source": [
    "plt.semilogx(mf.m, mf.sigma)\n",
    "\n",
    "plt.axvline(1e4, ls='dotted', c='k', label='T=1 K')\n",
    "plt.axvline(1e10, ls='dashed', c='k', label='T=$10^4$ K')\n",
    "plt.xlabel('Mass [Msun]')\n",
    "plt.ylabel('$\\sigma$')\n",
    "\n",
    "plt.legend()"
   ]
  },
  {
   "cell_type": "code",
   "execution_count": 18,
   "metadata": {
    "ExecuteTime": {
     "end_time": "2020-08-05T22:02:31.536897Z",
     "start_time": "2020-08-05T22:02:31.506495Z"
    }
   },
   "outputs": [],
   "source": [
    "def p_Delta(Delta, sigma0=1.):\n",
    "    return np.exp(-0.5*((np.log(Delta) + 0.5*sigma0**2.)/sigma0)**2.) \\\n",
    "            / np.sqrt(2*np.pi) / Delta / sigma0\n",
    "\n",
    "def x_Jeans(z, T=1*u.K, mu=1, gamma=5./3):\n",
    "    return (np.sqrt(2*gamma*const.k_B*T/(3.*mu*const.m_p*Planck15.Om0*(1+z)))/Planck15.H0).to(u.Mpc)\n",
    "\n",
    "def M_Jeans(z, T=1*u.K, mu=1, gamma=5./3):\n",
    "    return (4/3 * np.pi * Planck15.critical_density0 * (2*np.pi*x_Jeans(z, T, mu, gamma)/2)**3.).to(u.Msun)\n"
   ]
  },
  {
   "cell_type": "code",
   "execution_count": 45,
   "metadata": {
    "ExecuteTime": {
     "end_time": "2020-08-05T22:16:51.703279Z",
     "start_time": "2020-08-05T22:16:51.692984Z"
    }
   },
   "outputs": [
    {
     "name": "stdout",
     "output_type": "stream",
     "text": [
      "1.3e+04 solMass\n",
      "1.3e+10 solMass\n"
     ]
    }
   ],
   "source": [
    "print(f'{M_Jeans(z=6.6):.1e}')\n",
    "print(f'{M_Jeans(z=6.6, T=1e4*u.K):.1e}')"
   ]
  },
  {
   "cell_type": "code",
   "execution_count": 81,
   "metadata": {
    "ExecuteTime": {
     "end_time": "2020-08-06T13:48:48.982783Z",
     "start_time": "2020-08-06T13:48:48.743242Z"
    }
   },
   "outputs": [
    {
     "name": "stdout",
     "output_type": "stream",
     "text": [
      "1.000219952665097\n",
      "0.9644491051658503\n"
     ]
    },
    {
     "data": {
      "text/plain": [
       "<matplotlib.lines.Line2D at 0x18280d2b38>"
      ]
     },
     "execution_count": 81,
     "metadata": {},
     "output_type": "execute_result"
    },
    {
     "data": {
      "image/png": "[encoded data removed]",
      "text/plain": [
       "<Figure size 432x288 with 1 Axes>"
      ]
     },
     "metadata": {
      "needs_background": "light"
     },
     "output_type": "display_data"
    }
   ],
   "source": [
    "Delta = np.logspace(-15,1,1000)\n",
    "\n",
    "for sigma0 in [0.5, 1.,]:#, 4.]:\n",
    "    plt.plot(Delta, p_Delta(Delta, sigma0=sigma0), label=sigma0)\n",
    "    mean = np.trapz(Delta*p_Delta(Delta, sigma0=sigma0), Delta)\n",
    "    print(mean)\n",
    "plt.legend()\n",
    "plt.axvline(1.)"
   ]
  },
  {
   "cell_type": "code",
   "execution_count": 82,
   "metadata": {
    "ExecuteTime": {
     "end_time": "2020-08-06T18:21:59.811812Z",
     "start_time": "2020-08-06T18:21:59.758142Z"
    }
   },
   "outputs": [
    {
     "name": "stdout",
     "output_type": "stream",
     "text": [
      "0.0\n"
     ]
    }
   ],
   "source": [
    "print(np.log(1))"
   ]
  },
  {
   "cell_type": "markdown",
   "metadata": {},
   "source": [
    "# Density inside bubble\n",
    "\n",
    "- Barkana+04: $\\Delta \\propto r^{-1} /, r<10R_{Vir}$\n",
    "\n",
    "What is Rvir at z=7 for M~10^9Msun galaxy?\n",
    "\n",
    "https://ned.ipac.caltech.edu/level5/March01/Barcana/Bar2.html\n",
    "![rvir](https://ned.ipac.caltech.edu/level5/March01/Barcana/Equations/eq24.gif)"
   ]
  },
  {
   "cell_type": "code",
   "execution_count": 9,
   "metadata": {
    "ExecuteTime": {
     "end_time": "2020-08-10T16:15:57.736168Z",
     "start_time": "2020-08-10T16:15:57.706902Z"
    }
   },
   "outputs": [],
   "source": [
    "def R_vir(Mh, z, Delta_crit):\n",
    "    return 0.784 * (Mh/1e8 * Planck15.h)**(1/3) * (Planck15.Om0/Planck15.Om(z) * Delta_crit/18/(np.pi**2.))**(-1./3) * (10./(1+z)) / Planck15.h * u.kpc"
   ]
  },
  {
   "cell_type": "code",
   "execution_count": 10,
   "metadata": {
    "ExecuteTime": {
     "end_time": "2020-08-10T16:15:58.353528Z",
     "start_time": "2020-08-10T16:15:58.327168Z"
    }
   },
   "outputs": [
    {
     "data": {
      "text/latex": [
       "$1.8028983 \\; \\mathrm{kpc}$"
      ],
      "text/plain": [
       "<Quantity 1.80289835 kpc>"
      ]
     },
     "execution_count": 10,
     "metadata": {},
     "output_type": "execute_result"
    }
   ],
   "source": [
    "R_vir(Mh=1e8, z=7, Delta_crit=200)"
   ]
  },
  {
   "cell_type": "code",
   "execution_count": null,
   "metadata": {},
   "outputs": [],
   "source": []
  }
 ],
 "metadata": {
  "kernelspec": {
   "display_name": "Python 3",
   "language": "python",
   "name": "python3"
  },
  "language_info": {
   "codemirror_mode": {
    "name": "ipython",
    "version": 3
   },
   "file_extension": ".py",
   "mimetype": "text/x-python",
   "name": "python",
   "nbconvert_exporter": "python",
   "pygments_lexer": "ipython3",
   "version": "3.6.10"
  },
  "toc": {
   "base_numbering": 1,
   "nav_menu": {},
   "number_sections": true,
   "sideBar": true,
   "skip_h1_title": false,
   "title_cell": "Table of Contents",
   "title_sidebar": "Contents",
   "toc_cell": false,
   "toc_position": {},
   "toc_section_display": true,
   "toc_window_display": true
  }
 },
 "nbformat": 4,
 "nbformat_minor": 4
}
